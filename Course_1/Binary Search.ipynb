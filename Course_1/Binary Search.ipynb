{
 "cells": [
  {
   "cell_type": "code",
   "execution_count": 1,
   "metadata": {},
   "outputs": [],
   "source": [
    "import matplotlib.pyplot as plt\n",
    "from time import time\n",
    "from random import randint\n",
    "\n",
    "def run_and_plot(functions, names, generate_instance, start, end, step):\n",
    "    for f in functions:\n",
    "        timings = []\n",
    "        for i in range(start, end, step):\n",
    "            args = generate_instance(i)\n",
    "            startt = time()\n",
    "            f(*args)\n",
    "            endt = time()\n",
    "            timings.append(endt - startt)\n",
    "        plt.plot(timings)\n",
    "    plt.legend([n for n in names])\n",
    "\n",
    "    \n",
    "\n",
    "\n",
    "def generate_instance(max_len):\n",
    "    max_int = max_len\n",
    "    case = [sorted([randint(0,max_int) for _ in range(max_len)]), randint(0,max_int + max_int//2)]\n",
    "    return case"
   ]
  },
  {
   "cell_type": "code",
   "execution_count": 2,
   "metadata": {},
   "outputs": [
    {
     "data": {
      "text/plain": [
       "[[0, 2, 3, 3, 3, 6, 9, 9, 10, 11, 12, 12, 13, 14, 15, 15, 15, 17, 19, 19], 11]"
      ]
     },
     "execution_count": 2,
     "metadata": {},
     "output_type": "execute_result"
    }
   ],
   "source": [
    "generate_instance(20)"
   ]
  },
  {
   "cell_type": "markdown",
   "metadata": {},
   "source": [
    "### Implementation from lectures:"
   ]
  },
  {
   "cell_type": "code",
   "execution_count": 3,
   "metadata": {},
   "outputs": [],
   "source": [
    "def bs(A, t, l=0, r=None):\n",
    "    r = len(A) if r is None else r\n",
    "    #print(l, r)\n",
    "    if l >= r:\n",
    "        return None\n",
    "    mid = (l + r) // 2\n",
    "    if A[mid] == t:\n",
    "        return mid\n",
    "    if A[mid] > t:\n",
    "        return bs(A, t, l, mid)\n",
    "    return bs(A, t, mid + 1, r)"
   ]
  },
  {
   "cell_type": "markdown",
   "metadata": {},
   "source": [
    "### 3 realisations with bugs:"
   ]
  },
  {
   "cell_type": "code",
   "execution_count": 4,
   "metadata": {},
   "outputs": [],
   "source": [
    "def bsearch1(arr, key):\n",
    "    low, high = 0, len(arr)\n",
    "    while high - low >= 1: #bug here: high - low > 1\n",
    "        mid = (low + high) // 2\n",
    "        if arr[mid] == key:\n",
    "            return mid\n",
    "        elif arr[mid] < key:\n",
    "            low = mid + 1 #bug here low = mid\n",
    "        else:\n",
    "            high = mid\n",
    "    return None\n",
    "\n",
    "# test case: [[1], 1] should return 0. None istead."
   ]
  },
  {
   "cell_type": "code",
   "execution_count": 5,
   "metadata": {},
   "outputs": [],
   "source": [
    "def bsearch2(arr, key, left=0, right=None):\n",
    "    if right is None:\n",
    "        right = len(arr)\n",
    "    if right <= left: #bug here: right < left\n",
    "        return None\n",
    "    middle = (left + right) >> 1\n",
    "    if arr[middle] > key:\n",
    "        return bsearch2(arr, key, left, middle)\n",
    "    if arr[middle] < key:\n",
    "        return bsearch2(arr, key, middle + 1, right)\n",
    "    return middle\n",
    "\n",
    "# test case: [[], 1] should return None. IndexError instead"
   ]
  },
  {
   "cell_type": "code",
   "execution_count": 6,
   "metadata": {},
   "outputs": [],
   "source": [
    "def bsearch3(arr, key):\n",
    "    n = len(arr)\n",
    "    if n < 2:\n",
    "        return (0 if (n == 1 and arr[0] == key) else None)\n",
    "    m = int(0.5 * n)\n",
    "    if arr[m] > key:\n",
    "        return bsearch3(arr[:m], key)\n",
    "    result = bsearch3(arr[m:], key)\n",
    "    return (result + m if result != None else None)\n",
    "\n",
    "#complexity is n*log n"
   ]
  },
  {
   "cell_type": "code",
   "execution_count": 7,
   "metadata": {},
   "outputs": [],
   "source": [
    "def bsearch3e(arr, key, left=0, right=None):\n",
    "    right = len(arr) if right is None else right\n",
    "    n = right + left\n",
    "    if left >= right:\n",
    "        return None\n",
    "\n",
    "    m = int(0.5 * n)\n",
    "    if arr[m] > key:\n",
    "        return bsearch3e(arr, key, left, m)\n",
    "    elif arr[m] < key:\n",
    "        return bsearch3e(arr, key, m + 1, right)\n",
    "    return m"
   ]
  },
  {
   "cell_type": "markdown",
   "metadata": {},
   "source": [
    "### Testing:"
   ]
  },
  {
   "cell_type": "code",
   "execution_count": 8,
   "metadata": {},
   "outputs": [],
   "source": [
    "def test_bs(test_case,correct_algorithm,alg_to_test):\n",
    "    flag = True\n",
    "    answer = correct_algorithm(*test_case)\n",
    "    for alg in alg_to_test:\n",
    "        if alg(*test_case) == answer:\n",
    "            print(alg.__name__,\":Ok\", answer)\n",
    "        else:\n",
    "            print(test_case, alg.__name__,\"Wrong:\", alg(*test_case), \"Expected:\", answer)\n",
    "            flag = False\n",
    "    return flag"
   ]
  },
  {
   "cell_type": "code",
   "execution_count": 9,
   "metadata": {},
   "outputs": [],
   "source": [
    "test_cases = [\n",
    "    [[],1],\n",
    "    [[1],1],\n",
    "    [[1],2],\n",
    "    [[1,2],3],\n",
    "    [[1,2],1],\n",
    "    [[1,2],2],\n",
    "    [[1,2,3],1],\n",
    "    [[1,2,3],2],\n",
    "    [[1,2,3],3],\n",
    "    [[1,2,3],4],\n",
    "    [[1,2,3,4],1],\n",
    "    [[1,2,3,4],4],\n",
    "    [[1,2,3,4],2],\n",
    "    [[1,2,3,4],5]\n",
    "]"
   ]
  },
  {
   "cell_type": "code",
   "execution_count": 11,
   "metadata": {},
   "outputs": [],
   "source": [
    "from random import randint\n",
    "\n",
    "def generate_test(max_len, max_int):\n",
    "    case_len = randint(0,max_len)\n",
    "    case = [sorted([randint(0,max_int) for _ in range(case_len)]), randint(0,max_int + max_int//2)]\n",
    "    return case"
   ]
  },
  {
   "cell_type": "code",
   "execution_count": 12,
   "metadata": {},
   "outputs": [
    {
     "name": "stdout",
     "output_type": "stream",
     "text": [
      "bsearch1 :Ok 2\n",
      "bsearch2 :Ok 2\n",
      "bsearch3 :Ok 2\n",
      "bsearch3e :Ok 2\n",
      "bsearch1 :Ok 1\n",
      "bsearch2 :Ok 1\n",
      "bsearch3 :Ok 1\n",
      "bsearch3e :Ok 1\n",
      "bsearch1 :Ok None\n",
      "bsearch2 :Ok None\n",
      "bsearch3 :Ok None\n",
      "bsearch3e :Ok None\n",
      "bsearch1 :Ok 0\n",
      "bsearch2 :Ok 0\n",
      "bsearch3 :Ok 0\n",
      "bsearch3e :Ok 0\n",
      "bsearch1 :Ok None\n",
      "bsearch2 :Ok None\n",
      "bsearch3 :Ok None\n",
      "bsearch3e :Ok None\n",
      "bsearch1 :Ok None\n",
      "bsearch2 :Ok None\n",
      "bsearch3 :Ok None\n",
      "bsearch3e :Ok None\n",
      "bsearch1 :Ok 0\n",
      "bsearch2 :Ok 0\n",
      "bsearch3 :Ok 0\n",
      "bsearch3e :Ok 0\n",
      "bsearch1 :Ok None\n",
      "bsearch2 :Ok None\n",
      "bsearch3 :Ok None\n",
      "bsearch3e :Ok None\n",
      "bsearch1 :Ok None\n",
      "bsearch2 :Ok None\n",
      "bsearch3 :Ok None\n",
      "bsearch3e :Ok None\n",
      "bsearch1 :Ok 0\n",
      "bsearch2 :Ok 0\n",
      "bsearch3 :Ok 0\n",
      "bsearch3e :Ok 0\n",
      "bsearch1 :Ok None\n",
      "bsearch2 :Ok None\n",
      "bsearch3 :Ok None\n",
      "bsearch3e :Ok None\n",
      "bsearch1 :Ok 3\n",
      "bsearch2 :Ok 3\n",
      "bsearch3 :Ok 3\n",
      "bsearch3e :Ok 3\n",
      "bsearch1 :Ok None\n",
      "bsearch2 :Ok None\n",
      "bsearch3 :Ok None\n",
      "bsearch3e :Ok None\n",
      "bsearch1 :Ok None\n",
      "bsearch2 :Ok None\n",
      "bsearch3 :Ok None\n",
      "bsearch3e :Ok None\n",
      "bsearch1 :Ok None\n",
      "bsearch2 :Ok None\n",
      "bsearch3 :Ok None\n",
      "bsearch3e :Ok None\n",
      "bsearch1 :Ok 1\n",
      "bsearch2 :Ok 1\n",
      "bsearch3 :Ok 1\n",
      "bsearch3e :Ok 1\n",
      "bsearch1 :Ok None\n",
      "bsearch2 :Ok None\n",
      "bsearch3 :Ok None\n",
      "bsearch3e :Ok None\n",
      "bsearch1 :Ok None\n",
      "bsearch2 :Ok None\n",
      "bsearch3 :Ok None\n",
      "bsearch3e :Ok None\n",
      "bsearch1 :Ok None\n",
      "bsearch2 :Ok None\n",
      "bsearch3 :Ok None\n",
      "bsearch3e :Ok None\n",
      "bsearch1 :Ok None\n",
      "bsearch2 :Ok None\n",
      "bsearch3 :Ok None\n",
      "bsearch3e :Ok None\n",
      "bsearch1 :Ok None\n",
      "bsearch2 :Ok None\n",
      "bsearch3 :Ok None\n",
      "bsearch3e :Ok None\n",
      "bsearch1 :Ok None\n",
      "bsearch2 :Ok None\n",
      "bsearch3 :Ok None\n",
      "bsearch3e :Ok None\n",
      "bsearch1 :Ok None\n",
      "bsearch2 :Ok None\n",
      "bsearch3 :Ok None\n",
      "bsearch3e :Ok None\n",
      "bsearch1 :Ok None\n",
      "bsearch2 :Ok None\n",
      "bsearch3 :Ok None\n",
      "bsearch3e :Ok None\n",
      "bsearch1 :Ok None\n",
      "bsearch2 :Ok None\n",
      "bsearch3 :Ok None\n",
      "bsearch3e :Ok None\n",
      "bsearch1 :Ok None\n",
      "bsearch2 :Ok None\n",
      "bsearch3 :Ok None\n",
      "bsearch3e :Ok None\n",
      "bsearch1 :Ok None\n",
      "bsearch2 :Ok None\n",
      "bsearch3 :Ok None\n",
      "bsearch3e :Ok None\n",
      "bsearch1 :Ok None\n",
      "bsearch2 :Ok None\n",
      "bsearch3 :Ok None\n",
      "bsearch3e :Ok None\n",
      "bsearch1 :Ok None\n",
      "bsearch2 :Ok None\n",
      "bsearch3 :Ok None\n",
      "bsearch3e :Ok None\n",
      "bsearch1 :Ok 3\n",
      "bsearch2 :Ok 3\n",
      "bsearch3 :Ok 3\n",
      "bsearch3e :Ok 3\n",
      "bsearch1 :Ok 0\n",
      "bsearch2 :Ok 0\n",
      "bsearch3 :Ok 0\n",
      "bsearch3e :Ok 0\n",
      "bsearch1 :Ok 4\n",
      "bsearch2 :Ok 4\n",
      "bsearch3 :Ok 4\n",
      "bsearch3e :Ok 4\n",
      "bsearch1 :Ok None\n",
      "bsearch2 :Ok None\n",
      "bsearch3 :Ok None\n",
      "bsearch3e :Ok None\n",
      "bsearch1 :Ok None\n",
      "bsearch2 :Ok None\n",
      "bsearch3 :Ok None\n",
      "bsearch3e :Ok None\n",
      "bsearch1 :Ok None\n",
      "bsearch2 :Ok None\n",
      "bsearch3 :Ok None\n",
      "bsearch3e :Ok None\n",
      "bsearch1 :Ok None\n",
      "bsearch2 :Ok None\n",
      "bsearch3 :Ok None\n",
      "bsearch3e :Ok None\n",
      "bsearch1 :Ok 0\n",
      "bsearch2 :Ok 0\n",
      "bsearch3 :Ok 0\n",
      "bsearch3e :Ok 0\n",
      "bsearch1 :Ok None\n",
      "bsearch2 :Ok None\n",
      "bsearch3 :Ok None\n",
      "bsearch3e :Ok None\n",
      "bsearch1 :Ok None\n",
      "bsearch2 :Ok None\n",
      "bsearch3 :Ok None\n",
      "bsearch3e :Ok None\n",
      "bsearch1 :Ok None\n",
      "bsearch2 :Ok None\n",
      "bsearch3 :Ok None\n",
      "bsearch3e :Ok None\n",
      "bsearch1 :Ok None\n",
      "bsearch2 :Ok None\n",
      "bsearch3 :Ok None\n",
      "bsearch3e :Ok None\n",
      "bsearch1 :Ok None\n",
      "bsearch2 :Ok None\n",
      "bsearch3 :Ok None\n",
      "bsearch3e :Ok None\n",
      "bsearch1 :Ok None\n",
      "bsearch2 :Ok None\n",
      "bsearch3 :Ok None\n",
      "bsearch3e :Ok None\n",
      "bsearch1 :Ok 0\n",
      "bsearch2 :Ok 0\n",
      "bsearch3 :Ok 0\n",
      "bsearch3e :Ok 0\n",
      "bsearch1 :Ok None\n",
      "bsearch2 :Ok None\n",
      "bsearch3 :Ok None\n",
      "bsearch3e :Ok None\n",
      "bsearch1 :Ok None\n",
      "bsearch2 :Ok None\n",
      "bsearch3 :Ok None\n",
      "bsearch3e :Ok None\n",
      "bsearch1 :Ok None\n",
      "bsearch2 :Ok None\n",
      "bsearch3 :Ok None\n",
      "bsearch3e :Ok None\n",
      "bsearch1 :Ok None\n",
      "bsearch2 :Ok None\n",
      "bsearch3 :Ok None\n",
      "bsearch3e :Ok None\n",
      "bsearch1 :Ok 5\n",
      "bsearch2 :Ok 5\n",
      "bsearch3 :Ok 5\n",
      "bsearch3e :Ok 5\n",
      "bsearch1 :Ok 2\n",
      "bsearch2 :Ok 2\n",
      "[[0, 1, 4, 4, 6], 4] bsearch3 Wrong: 3 Expected: 2\n",
      "bsearch3e :Ok 2\n"
     ]
    }
   ],
   "source": [
    "flag = True\n",
    "while flag:\n",
    "    case = generate_test(6,6)\n",
    "    flag = test_bs(case,bs,[bsearch1,bsearch2,bsearch3,bsearch3e])\n",
    "    "
   ]
  },
  {
   "cell_type": "code",
   "execution_count": 47,
   "metadata": {},
   "outputs": [
    {
     "name": "stdout",
     "output_type": "stream",
     "text": [
      "[[], 1]\n",
      "bsearch1 :Ok None\n",
      "bsearch2 :Ok None\n",
      "bsearch3 :Ok None\n",
      "[[1], 1]\n",
      "bsearch1 :Ok 0\n",
      "bsearch2 :Ok 0\n",
      "bsearch3 :Ok 0\n",
      "[[1], 2]\n",
      "bsearch1 :Ok None\n",
      "bsearch2 :Ok None\n",
      "bsearch3 :Ok None\n",
      "[[1, 2], 3]\n",
      "bsearch1 :Ok None\n",
      "bsearch2 :Ok None\n",
      "bsearch3 :Ok None\n",
      "[[1, 2], 1]\n",
      "bsearch1 :Ok 0\n",
      "bsearch2 :Ok 0\n",
      "bsearch3 :Ok 0\n",
      "[[1, 2], 2]\n",
      "bsearch1 :Ok 1\n",
      "bsearch2 :Ok 1\n",
      "bsearch3 :Ok 1\n",
      "[[1, 2, 3], 1]\n",
      "bsearch1 :Ok 0\n",
      "bsearch2 :Ok 0\n",
      "bsearch3 :Ok 0\n",
      "[[1, 2, 3], 2]\n",
      "bsearch1 :Ok 1\n",
      "bsearch2 :Ok 1\n",
      "bsearch3 :Ok 1\n",
      "[[1, 2, 3], 3]\n",
      "bsearch1 :Ok 2\n",
      "bsearch2 :Ok 2\n",
      "bsearch3 :Ok 2\n",
      "[[1, 2, 3], 4]\n",
      "bsearch1 :Ok None\n",
      "bsearch2 :Ok None\n",
      "bsearch3 :Ok None\n",
      "[[1, 2, 3, 4], 1]\n",
      "bsearch1 :Ok 0\n",
      "bsearch2 :Ok 0\n",
      "bsearch3 :Ok 0\n",
      "[[1, 2, 3, 4], 4]\n",
      "bsearch1 :Ok 3\n",
      "bsearch2 :Ok 3\n",
      "bsearch3 :Ok 3\n",
      "[[1, 2, 3, 4], 2]\n",
      "bsearch1 :Ok 1\n",
      "bsearch2 :Ok 1\n",
      "bsearch3 :Ok 1\n",
      "[[1, 2, 3, 4], 5]\n",
      "bsearch1 :Ok None\n",
      "bsearch2 :Ok None\n",
      "bsearch3 :Ok None\n"
     ]
    }
   ],
   "source": [
    "for test_case in test_cases:\n",
    "    print(test_case)\n",
    "    test_bs(test_case,bs,[bsearch1,bsearch2,bsearch3])\n",
    "    "
   ]
  },
  {
   "cell_type": "code",
   "execution_count": 16,
   "metadata": {},
   "outputs": [
    {
     "data": {
      "image/png": "[encoded data removed]",
      "text/plain": [
       "<Figure size 432x288 with 1 Axes>"
      ]
     },
     "metadata": {
      "needs_background": "light"
     },
     "output_type": "display_data"
    }
   ],
   "source": [
    "run_and_plot(\n",
    "    [bsearch1,bsearch2,bsearch3,bsearch3e],\n",
    "    [\"bsearch1\",\"bsearch2\",\"bsearch3\",\"bsearch3e\"],\n",
    "    generate_instance, \n",
    "    10, 200000, 1000\n",
    ")"
   ]
  },
  {
   "cell_type": "code",
   "execution_count": 17,
   "metadata": {},
   "outputs": [],
   "source": [
    "def bsearch3(arr, key):\n",
    "    n = len(arr)\n",
    "    if n < 2:\n",
    "        return (0 if (n == 1 and arr[0] == key) else None)\n",
    "    m = int(0.5 * n)\n",
    "    if arr[m] > key:\n",
    "        return bsearch3(arr[:m], key)\n",
    "    result = bsearch3(arr[m:], key)\n",
    "    return (result + m if result != None else None)\n",
    "\n",
    "#complexity is n*log n"
   ]
  },
  {
   "cell_type": "code",
   "execution_count": 18,
   "metadata": {},
   "outputs": [],
   "source": [
    "def bsearch3e(arr, key, left=0, right=None):\n",
    "    right = len(arr) if right is None else right\n",
    "    n = right + left\n",
    "    if left >= right:\n",
    "        return None\n",
    "\n",
    "    m = int(0.5 * n)\n",
    "    if arr[m] > key:\n",
    "        return bsearch3e(arr, key, left, m)\n",
    "    elif arr[m] < key:\n",
    "        return bsearch3e(arr, key, m + 1, right)\n",
    "    return m"
   ]
  },
  {
   "cell_type": "code",
   "execution_count": 111,
   "metadata": {},
   "outputs": [],
   "source": [
    "def bs(A, t, l=0, r=None):\n",
    "    print(l,r)\n",
    "    r = len(A) if r is None else r\n",
    "    if l >= r:\n",
    "        return -1\n",
    "    mid = (l + 2 * r) // 3\n",
    "    if A[mid] == t:\n",
    "        return mid\n",
    "    if A[mid] > t:\n",
    "        return bs(A, t, l, mid)\n",
    "    return bs(A, t, mid + 1, r)"
   ]
  },
  {
   "cell_type": "code",
   "execution_count": 114,
   "metadata": {},
   "outputs": [
    {
     "name": "stdout",
     "output_type": "stream",
     "text": [
      "0 None\n",
      "9 13\n",
      "9 11\n"
     ]
    },
    {
     "data": {
      "text/plain": [
       "10"
      ]
     },
     "execution_count": 114,
     "metadata": {},
     "output_type": "execute_result"
    }
   ],
   "source": [
    "bs([1,2,3,4,5,6,7,8,9,10,11,12,13],11)"
   ]
  },
  {
   "cell_type": "code",
   "execution_count": null,
   "metadata": {},
   "outputs": [],
   "source": []
  }
 ],
 "metadata": {
  "kernelspec": {
   "display_name": "Python 3",
   "language": "python",
   "name": "python3"
  },
  "language_info": {
   "codemirror_mode": {
    "name": "ipython",
    "version": 3
   },
   "file_extension": ".py",
   "mimetype": "text/x-python",
   "name": "python",
   "nbconvert_exporter": "python",
   "pygments_lexer": "ipython3",
   "version": "3.6.10"
  }
 },
 "nbformat": 4,
 "nbformat_minor": 4
}
